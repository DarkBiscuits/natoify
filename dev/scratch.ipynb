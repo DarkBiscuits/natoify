{
 "cells": [
  {
   "cell_type": "code",
   "execution_count": 1,
   "metadata": {},
   "outputs": [
    {
     "name": "stdout",
     "output_type": "stream",
     "text": [
      "['/Users/sethrecarde/Library/CloudStorage/Dropbox/0_Misc/Software_Dev/Python/Nato-Code/dev', '/Users/sethrecarde/miniconda3/envs/lists/lib/python310.zip', '/Users/sethrecarde/miniconda3/envs/lists/lib/python3.10', '/Users/sethrecarde/miniconda3/envs/lists/lib/python3.10/lib-dynload', '', '/Users/sethrecarde/.local/lib/python3.10/site-packages', '/Users/sethrecarde/miniconda3/envs/lists/lib/python3.10/site-packages', '/Users/sethrecarde/Library/CloudStorage/Dropbox/0_Misc/Software_Dev/Python/Nato-Code', '/Users/sethrecarde/Library/CloudStorage/Dropbox/0_Misc/Software_Dev/Python/Nato-Code/nato_code']\n"
     ]
    }
   ],
   "source": [
    "import os\n",
    "import sys\n",
    "\n",
    "module_path = os.path.abspath(os.path.join('..'))\n",
    "if module_path not in sys.path:\n",
    "    sys.path.append(module_path)\n",
    "module_path = os.path.abspath(os.path.join('../nato_code/'))\n",
    "if module_path not in sys.path:\n",
    "    sys.path.append(module_path)\n",
    "print(sys.path)\n",
    "\n",
    "from nato_code.nato_lib import nato_codes\n",
    "from nato_code.nato_lib import nato_code_words\n",
    "from nato_code.nato_msg import msg_to_nato, nato_to_msg\n"
   ]
  },
  {
   "cell_type": "code",
   "execution_count": 3,
   "metadata": {},
   "outputs": [
    {
     "name": "stdout",
     "output_type": "stream",
     "text": [
      "Tango Hotel India Sierra   India Sierra   Alfa   Tango Echo Sierra Tango   Mike Echo Sierra Sierra Alfa Golf Echo STOP   India Tango Apostrophe Sierra   Charlie Oscar November Tango Echo November Tango Sierra   Alfa Romeo Echo   HashTag ExclaMark Dash Golf Romeo Echo Alfa Tango Dash ExclaMark HashTag   Alfa November Delta \n",
      " India November Charlie Lima Uniform Delta Echo   At Tango Hotel India November Golf Sierra   Tango Oscar   Tango Echo Sierra Tango Comma   Lima India Kilo Echo   DollarSign Four Point Two Three   Alfa November Delta   LeftParen Tango Hotel India Sierra RightParen   Oscar Romeo   Slash Tango Hotel Echo Sierra Echo STOP \n",
      " India Tango   Charlie Oscar Uniform Lima Delta   Alfa Lima Sierra Oscar   Hotel Alfa Victor Echo   Three Asterisk Two Caret Five   Plus   One Zero Percent Comma   Romeo India Golf Hotel Tango QuestMark   Golf Oscar Oscar Delta   GreaterThan   Bravo Alfa Delta QuestMark   Oscar Romeo   LessThan   Bravo Alfa Delta QuestMark \n",
      " India Tango   India Sierra   Charlie Oscar Delta Echo Underscore Whiskey Oscar Romeo Delta Echo Delta   Ampersand   Backtick Uniform November Uniform Sierra Uniform Alfa Lima Backtick   Lima India Kilo Echo   Tango Hotel India Sierra   Tilde Colon   Oscar Romeo   LeftSquare Tango Hotel India Sierra Semicolon RightSquare   Oscar Romeo   LeftCurly QuotMark Tango Hotel India Sierra QuotMark RightCurly STOP \n",
      " Bravo Uniform Tango   India Tango   Charlie Oscar Uniform Lima Delta   Golf Echo Tango   Whiskey Echo India Romeo Delta   Pipe   Lima India Kilo Echo   Backslash Tango Hotel India Sierra STOP   Yankee Oscar Uniform   Delta Echo Charlie India Delta Echo   Delta Oscar November Kilo Echo Yankee Mike Alfa Sierra Tango Echo Romeo Six Nine STOP   \n"
     ]
    }
   ],
   "source": [
    "with open('../data/nato_message.txt', 'r') as f:\n",
    "    nato_message = f.read()\n",
    "print(nato_message)"
   ]
  },
  {
   "cell_type": "code",
   "execution_count": 6,
   "metadata": {},
   "outputs": [
    {
     "name": "stdout",
     "output_type": "stream",
     "text": [
      "THIS IS A TEST MESSAGE. IT'S CONTENTS ARE #!-GREAT-!# AND \n",
      "INCLUDE @THINGS TO TEST, LIKE $4.23 AND (THIS) OR /THESE. \n",
      "IT COULD ALSO HAVE 3*2^5 + 10%, RIGHT? GOOD > BAD? OR < BAD? \n",
      "IT IS CODE_WORDED & `UNUSUAL` LIKE THIS ~: OR [THIS;] OR {\"THIS\"}. \n",
      "BUT IT COULD GET WEIRD | LIKE \\THIS. YOU DECIDE DONKEYMASTER69.  \n",
      "\n"
     ]
    }
   ],
   "source": [
    "def decode_nato_msg(nato_message: str) -> str:\n",
    "    \"\"\"Decode a NATO message to English\"\"\"\n",
    "\n",
    "    # Get the reversed code dictionary for decode lookup\n",
    "    nato_words = nato_code_words(nato_codes)\n",
    "    decoded_msg = \"\"\n",
    "\n",
    "    # Split message into a list of lines (list containing a string)\n",
    "    lines = nato_message.split('\\n')\n",
    "    \n",
    "    # Split each line's string into a list of words\n",
    "    lines = [line.split('  ') for line in lines]\n",
    "\n",
    "    # Decode each line (list containing lists of strings)\n",
    "    for line in lines:\n",
    "        # Strip whitespace from each word (group of symbols)\n",
    "        line = [word.strip() for word in line]\n",
    "        decoded_line = \"\"\n",
    "        \n",
    "        # Decode each group of symbols (that form a word)\n",
    "        for word in line:\n",
    "            symbols = word.split(' ')\n",
    "            word = [nato_words[symbol] for symbol in symbols if symbol != '']\n",
    "            word = ''.join(word) + ' '\n",
    "            # Append decoded word to decoded line\n",
    "            decoded_line += word\n",
    "        \n",
    "        # Append decoded line to decoded message\n",
    "        decoded_msg += decoded_line + '\\n'\n",
    "\n",
    "    return decoded_msg\n",
    "    \n",
    "\n",
    "print(decode_nato_msg(nato_message))"
   ]
  },
  {
   "cell_type": "code",
   "execution_count": 9,
   "metadata": {},
   "outputs": [
    {
     "name": "stdout",
     "output_type": "stream",
     "text": [
      "TANGO HOTEL INDIA SIERRA  INDIA SIERRA  ALFA  TANGO ECHO SIERRA TANGO  MIKE ECHO SIERRA SIERRA ALFA GOLF ECHO STOP  ONE TWO THREE FOUR STOP  SIERRA TANGO OSCAR PAPA  \n",
      "THIS IS A TEST MESSAGE. 1234. STOP\n",
      "THIS IS A TEST MESSAGE. 1234. STOP\n",
      "True\n"
     ]
    }
   ],
   "source": [
    "msg = \"This is a test message. 1234. STOP\"\n",
    "out = msg_to_nato(msg)\n",
    "back = nato_to_msg(out)\n",
    "print(out)\n",
    "print(msg.upper())\n",
    "print(back)\n",
    "print(msg.upper() == back)"
   ]
  },
  {
   "cell_type": "code",
   "execution_count": 8,
   "metadata": {},
   "outputs": [
    {
     "name": "stdout",
     "output_type": "stream",
     "text": [
      "EXCLAMARK AT HASHTAG DOLLARSIGN PERCENT CARET AMPERSAND ASTERISK LEFTPAREN RIGHTPAREN UNDERSCORE PLUS EQUAL DASH APOSTROPHE QUOTMARK COLON SEMICOLON QUESTMARK SLASH POINT COMMA GREATERTHAN LESSTHAN BACKSLASH PIPE BACKTICK TILDE LEFTSQUARE RIGHTSQUARE LEFTCURLY RIGHTCURLY  \n",
      "!@#$%^&*()_+=-'\":;?/.,><\\|`~[]{}\n",
      "!@#$%^&*()_+=-'\":;?/.,><\\|`~[]{}\n",
      "True\n"
     ]
    }
   ],
   "source": [
    "message = \"!@#$%^&*()_+=-'\\\":;?/.,><\\\\|`~[]{}\"\n",
    "\n",
    "out = msg_to_nato(message)\n",
    "back = nato_to_msg(out)\n",
    "print(out)\n",
    "print(message)\n",
    "print(back)\n",
    "print(message == back)"
   ]
  },
  {
   "cell_type": "code",
   "execution_count": 7,
   "metadata": {},
   "outputs": [
    {
     "name": "stdout",
     "output_type": "stream",
     "text": [
      "ONE TWO THREE FOUR FIVE  SIX SEVEN EIGHT NINE ZERO \n",
      "12345 67890\n",
      "12345 67890\n",
      "True\n"
     ]
    }
   ],
   "source": [
    "message = \"12345 67890\"\n",
    "nato_message = \"One Two Three Four Five   Six Seven Eight Nine Zero \"\n",
    "\n",
    "out = msg_to_nato(message)\n",
    "back = nato_to_msg(out)\n",
    "print(out)\n",
    "print(message)\n",
    "print(back)\n",
    "print(message == back)"
   ]
  },
  {
   "cell_type": "code",
   "execution_count": 11,
   "metadata": {},
   "outputs": [
    {
     "name": "stdout",
     "output_type": "stream",
     "text": [
      "TANGO HOTEL INDIA SIERRA  INDIA SIERRA  ALFA  TANGO ECHO SIERRA TANGO  MIKE ECHO SIERRA SIERRA ALFA GOLF ECHO STOP  INDIA TANGO APOSTROPHE SIERRA  CHARLIE OSCAR NOVEMBER TANGO ECHO NOVEMBER TANGO SIERRA  ALFA ROMEO ECHO  HASHTAG EXCLAMARK DASH GOLF ROMEO ECHO ALFA TANGO DASH EXCLAMARK HASHTAG  ALFA NOVEMBER DELTA \n",
      " INDIA NOVEMBER CHARLIE LIMA UNIFORM DELTA ECHO  AT TANGO HOTEL INDIA NOVEMBER GOLF SIERRA  TANGO OSCAR  TANGO ECHO SIERRA TANGO COMMA  LIMA INDIA KILO ECHO  DOLLARSIGN FOUR POINT TWO THREE  ALFA NOVEMBER DELTA  LEFTPAREN TANGO HOTEL INDIA SIERRA RIGHTPAREN  OSCAR ROMEO  SLASH TANGO HOTEL ECHO SIERRA ECHO STOP \n",
      " INDIA TANGO  CHARLIE OSCAR UNIFORM LIMA DELTA  ALFA LIMA SIERRA OSCAR  HOTEL ALFA VICTOR ECHO  THREE ASTERISK TWO CARET FIVE  PLUS  ONE ZERO PERCENT COMMA  ROMEO INDIA GOLF HOTEL TANGO QUESTMARK  GOLF OSCAR OSCAR DELTA  GREATERTHAN  BRAVO ALFA DELTA QUESTMARK  OSCAR ROMEO  LESSTHAN  BRAVO ALFA DELTA QUESTMARK \n",
      " INDIA TANGO  INDIA SIERRA  CHARLIE OSCAR DELTA ECHO UNDERSCORE WHISKEY OSCAR ROMEO DELTA ECHO DELTA  AMPERSAND  BACKTICK UNIFORM NOVEMBER UNIFORM SIERRA UNIFORM ALFA LIMA BACKTICK  LIMA INDIA KILO ECHO  TANGO HOTEL INDIA SIERRA  TILDE COLON  OSCAR ROMEO  LEFTSQUARE TANGO HOTEL INDIA SIERRA SEMICOLON RIGHTSQUARE  OSCAR ROMEO  LEFTCURLY QUOTMARK TANGO HOTEL INDIA SIERRA QUOTMARK RIGHTCURLY STOP \n",
      " BRAVO UNIFORM TANGO  INDIA TANGO  CHARLIE OSCAR UNIFORM LIMA DELTA  GOLF ECHO TANGO  WHISKEY ECHO INDIA ROMEO DELTA  PIPE  LIMA INDIA KILO ECHO  BACKSLASH TANGO HOTEL INDIA SIERRA STOP  YANKEE OSCAR UNIFORM  DELTA ECHO CHARLIE INDIA DELTA ECHO  DELTA OSCAR NOVEMBER KILO ECHO YANKEE MIKE ALFA SIERRA TANGO ECHO ROMEO SIX NINE STOP   \n",
      "\n",
      "THIS IS A TEST MESSAGE. IT'S CONTENTS ARE #!-GREAT-!# AND\n",
      "INCLUDE @THINGS TO TEST, LIKE $4.23 AND (THIS) OR /THESE.\n",
      "IT COULD ALSO HAVE 3*2^5 + 10%, RIGHT? GOOD > BAD? OR < BAD?\n",
      "IT IS CODE_WORDED & `UNUSUAL` LIKE THIS ~: OR [THIS;] OR {\"THIS\"}.\n",
      "BUT IT COULD GET WEIRD | LIKE \\THIS. YOU DECIDE DONKEYMASTER69. \n",
      "\n",
      "THIS IS A TEST MESSAGE. IT'S CONTENTS ARE #!-GREAT-!# AND \n",
      "INCLUDE @THINGS TO TEST, LIKE $4.23 AND (THIS) OR /THESE. \n",
      "IT COULD ALSO HAVE 3*2^5 + 10%, RIGHT? GOOD > BAD? OR < BAD? \n",
      "IT IS CODE_WORDED & `UNUSUAL` LIKE THIS ~: OR [THIS;] OR {\"THIS\"}. \n",
      "BUT IT COULD GET WEIRD | LIKE \\THIS. YOU DECIDE DONKEYMASTER69. \n",
      "\n",
      "False\n"
     ]
    }
   ],
   "source": [
    "with open('../data/message.txt', 'r') as f:\n",
    "    message = f.read()\n",
    "\n",
    "out = msg_to_nato(message)\n",
    "back = nato_to_msg(out)\n",
    "print(out, '\\n')\n",
    "print(message.upper(), '\\n')\n",
    "print(back, '\\n')\n",
    "print(message.upper() == back)"
   ]
  },
  {
   "cell_type": "code",
   "execution_count": null,
   "metadata": {},
   "outputs": [],
   "source": []
  }
 ],
 "metadata": {
  "kernelspec": {
   "display_name": "lists",
   "language": "python",
   "name": "python3"
  },
  "language_info": {
   "codemirror_mode": {
    "name": "ipython",
    "version": 3
   },
   "file_extension": ".py",
   "mimetype": "text/x-python",
   "name": "python",
   "nbconvert_exporter": "python",
   "pygments_lexer": "ipython3",
   "version": "3.10.11"
  },
  "orig_nbformat": 4
 },
 "nbformat": 4,
 "nbformat_minor": 2
}
