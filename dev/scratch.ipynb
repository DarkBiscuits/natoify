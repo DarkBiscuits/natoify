{
 "cells": [
  {
   "cell_type": "code",
   "execution_count": 1,
   "metadata": {},
   "outputs": [
    {
     "name": "stdout",
     "output_type": "stream",
     "text": [
      "['/Users/sethrecarde/Library/CloudStorage/Dropbox/0_Misc/Software_Dev/Python/natoify/dev', '/Users/sethrecarde/miniconda3/envs/nato/lib/python311.zip', '/Users/sethrecarde/miniconda3/envs/nato/lib/python3.11', '/Users/sethrecarde/miniconda3/envs/nato/lib/python3.11/lib-dynload', '', '/Users/sethrecarde/miniconda3/envs/nato/lib/python3.11/site-packages', '/Users/sethrecarde/Library/CloudStorage/Dropbox/0_Misc/Software_Dev/Python/natoify/src/natoify']\n"
     ]
    }
   ],
   "source": [
    "import os\n",
    "import sys\n",
    "\n",
    "module_path = os.path.abspath(os.path.join('../src/natoify'))\n",
    "if module_path not in sys.path:\n",
    "    sys.path.append(module_path)\n",
    "print(sys.path)\n",
    "\n",
    "# from natoify.nato_lib import nato_codes\n",
    "# from natoify.nato_lib import nato_code_words\n",
    "# from natoify.nato_msg import msg_to_nato, nato_to_msg\n",
    "from natoify.engine import Natoify\n",
    "from natoify.codes import NATO, GHETTONATO\n"
   ]
  },
  {
   "cell_type": "code",
   "execution_count": 6,
   "metadata": {},
   "outputs": [
    {
     "name": "stdout",
     "output_type": "stream",
     "text": [
      "['NATO', 'GHETTONATO', 'GHETTONATO2']\n",
      "HOE EATME LAMEASS LAMEASS ORFICE  WANKER ORFICE RIMJOB LAMEASS DOUCHBAG OSHIT\n"
     ]
    }
   ],
   "source": [
    "msg = \"Hello World!\"\n",
    "nato = Natoify()\n",
    "print(nato.list_codes())\n",
    "nato.set_code('ghettonato')\n",
    "encoded = nato.encode(msg)\n",
    "print(encoded)"
   ]
  },
  {
   "cell_type": "code",
   "execution_count": 3,
   "metadata": {},
   "outputs": [
    {
     "name": "stdout",
     "output_type": "stream",
     "text": [
      "Tango Hotel India Sierra   India Sierra   Alfa   Tango Echo Sierra Tango   Mike Echo Sierra Sierra Alfa Golf Echo STOP   India Tango Apostrophe Sierra   Charlie Oscar November Tango Echo November Tango Sierra   Alfa Romeo Echo   HashTag ExclaMark Dash Golf Romeo Echo Alfa Tango Dash ExclaMark HashTag   Alfa November Delta \n",
      " India November Charlie Lima Uniform Delta Echo   At Tango Hotel India November Golf Sierra   Tango Oscar   Tango Echo Sierra Tango Comma   Lima India Kilo Echo   DollarSign Four Point Two Three   Alfa November Delta   LeftParen Tango Hotel India Sierra RightParen   Oscar Romeo   Slash Tango Hotel Echo Sierra Echo STOP \n",
      " India Tango   Charlie Oscar Uniform Lima Delta   Alfa Lima Sierra Oscar   Hotel Alfa Victor Echo   Three Asterisk Two Caret Five   Plus   One Zero Percent Comma   Romeo India Golf Hotel Tango QuestMark   Golf Oscar Oscar Delta   GreaterThan   Bravo Alfa Delta QuestMark   Oscar Romeo   LessThan   Bravo Alfa Delta QuestMark \n",
      " India Tango   India Sierra   Charlie Oscar Delta Echo Underscore Whiskey Oscar Romeo Delta Echo Delta   Ampersand   Backtick Uniform November Uniform Sierra Uniform Alfa Lima Backtick   Lima India Kilo Echo   Tango Hotel India Sierra   Tilde Colon   Oscar Romeo   LeftSquare Tango Hotel India Sierra Semicolon RightSquare   Oscar Romeo   LeftCurly QuotMark Tango Hotel India Sierra QuotMark RightCurly STOP \n",
      " Bravo Uniform Tango   India Tango   Charlie Oscar Uniform Lima Delta   Golf Echo Tango   Whiskey Echo India Romeo Delta   Pipe   Lima India Kilo Echo   Backslash Tango Hotel India Sierra STOP   Yankee Oscar Uniform   Delta Echo Charlie India Delta Echo   Delta Oscar November Kilo Echo Yankee Mike Alfa Sierra Tango Echo Romeo Six Nine STOP   \n"
     ]
    }
   ],
   "source": [
    "with open('../data/nato_message.txt', 'r') as f:\n",
    "    nato_message = f.read()\n",
    "print(nato_message)"
   ]
  },
  {
   "cell_type": "code",
   "execution_count": 6,
   "metadata": {},
   "outputs": [
    {
     "name": "stdout",
     "output_type": "stream",
     "text": [
      "THIS IS A TEST MESSAGE. IT'S CONTENTS ARE #!-GREAT-!# AND \n",
      "INCLUDE @THINGS TO TEST, LIKE $4.23 AND (THIS) OR /THESE. \n",
      "IT COULD ALSO HAVE 3*2^5 + 10%, RIGHT? GOOD > BAD? OR < BAD? \n",
      "IT IS CODE_WORDED & `UNUSUAL` LIKE THIS ~: OR [THIS;] OR {\"THIS\"}. \n",
      "BUT IT COULD GET WEIRD | LIKE \\THIS. YOU DECIDE DONKEYMASTER69.  \n",
      "\n"
     ]
    }
   ],
   "source": [
    "def decode_nato_msg(nato_message: str) -> str:\n",
    "    \"\"\"Decode a NATO message to English\"\"\"\n",
    "\n",
    "    # Get the reversed code dictionary for decode lookup\n",
    "    nato_words = nato_code_words(nato_codes)\n",
    "    decoded_msg = \"\"\n",
    "\n",
    "    # Split message into a list of lines (list containing a string)\n",
    "    lines = nato_message.split('\\n')\n",
    "    \n",
    "    # Split each line's string into a list of words\n",
    "    lines = [line.split('  ') for line in lines]\n",
    "\n",
    "    # Decode each line (list containing lists of strings)\n",
    "    for line in lines:\n",
    "        # Strip whitespace from each word (group of symbols)\n",
    "        line = [word.strip() for word in line]\n",
    "        decoded_line = \"\"\n",
    "        \n",
    "        # Decode each group of symbols (that form a word)\n",
    "        for word in line:\n",
    "            symbols = word.split(' ')\n",
    "            word = [nato_words[symbol] for symbol in symbols if symbol != '']\n",
    "            word = ''.join(word) + ' '\n",
    "            # Append decoded word to decoded line\n",
    "            decoded_line += word\n",
    "        \n",
    "        # Append decoded line to decoded message\n",
    "        decoded_msg += decoded_line + '\\n'\n",
    "\n",
    "    return decoded_msg\n",
    "    \n",
    "\n",
    "print(decode_nato_msg(nato_message))"
   ]
  },
  {
   "cell_type": "code",
   "execution_count": 9,
   "metadata": {},
   "outputs": [
    {
     "name": "stdout",
     "output_type": "stream",
     "text": [
      "TANGO HOTEL INDIA SIERRA  INDIA SIERRA  ALFA  TANGO ECHO SIERRA TANGO  MIKE ECHO SIERRA SIERRA ALFA GOLF ECHO STOP  ONE TWO THREE FOUR STOP  SIERRA TANGO OSCAR PAPA  \n",
      "THIS IS A TEST MESSAGE. 1234. STOP\n",
      "THIS IS A TEST MESSAGE. 1234. STOP\n",
      "True\n"
     ]
    }
   ],
   "source": [
    "msg = \"This is a test message. 1234. STOP\"\n",
    "out = msg_to_nato(msg)\n",
    "back = nato_to_msg(out)\n",
    "print(out)\n",
    "print(msg.upper())\n",
    "print(back)\n",
    "print(msg.upper() == back)"
   ]
  },
  {
   "cell_type": "code",
   "execution_count": 8,
   "metadata": {},
   "outputs": [
    {
     "name": "stdout",
     "output_type": "stream",
     "text": [
      "EXCLAMARK AT HASHTAG DOLLARSIGN PERCENT CARET AMPERSAND ASTERISK LEFTPAREN RIGHTPAREN UNDERSCORE PLUS EQUAL DASH APOSTROPHE QUOTMARK COLON SEMICOLON QUESTMARK SLASH POINT COMMA GREATERTHAN LESSTHAN BACKSLASH PIPE BACKTICK TILDE LEFTSQUARE RIGHTSQUARE LEFTCURLY RIGHTCURLY  \n",
      "!@#$%^&*()_+=-'\":;?/.,><\\|`~[]{}\n",
      "!@#$%^&*()_+=-'\":;?/.,><\\|`~[]{}\n",
      "True\n"
     ]
    }
   ],
   "source": [
    "message = \"!@#$%^&*()_+=-'\\\":;?/.,><\\\\|`~[]{}\"\n",
    "\n",
    "out = msg_to_nato(message)\n",
    "back = nato_to_msg(out)\n",
    "print(out)\n",
    "print(message)\n",
    "print(back)\n",
    "print(message == back)"
   ]
  },
  {
   "cell_type": "code",
   "execution_count": 7,
   "metadata": {},
   "outputs": [
    {
     "name": "stdout",
     "output_type": "stream",
     "text": [
      "ONE TWO THREE FOUR FIVE  SIX SEVEN EIGHT NINE ZERO \n",
      "12345 67890\n",
      "12345 67890\n",
      "True\n"
     ]
    }
   ],
   "source": [
    "message = \"12345 67890\"\n",
    "nato_message = \"One Two Three Four Five   Six Seven Eight Nine Zero \"\n",
    "\n",
    "out = msg_to_nato(message)\n",
    "back = nato_to_msg(out)\n",
    "print(out)\n",
    "print(message)\n",
    "print(back)\n",
    "print(message == back)"
   ]
  },
  {
   "cell_type": "code",
   "execution_count": 11,
   "metadata": {},
   "outputs": [
    {
     "name": "stdout",
     "output_type": "stream",
     "text": [
      "TANGO HOTEL INDIA SIERRA  INDIA SIERRA  ALFA  TANGO ECHO SIERRA TANGO  MIKE ECHO SIERRA SIERRA ALFA GOLF ECHO STOP  INDIA TANGO APOSTROPHE SIERRA  CHARLIE OSCAR NOVEMBER TANGO ECHO NOVEMBER TANGO SIERRA  ALFA ROMEO ECHO  HASHTAG EXCLAMARK DASH GOLF ROMEO ECHO ALFA TANGO DASH EXCLAMARK HASHTAG  ALFA NOVEMBER DELTA \n",
      " INDIA NOVEMBER CHARLIE LIMA UNIFORM DELTA ECHO  AT TANGO HOTEL INDIA NOVEMBER GOLF SIERRA  TANGO OSCAR  TANGO ECHO SIERRA TANGO COMMA  LIMA INDIA KILO ECHO  DOLLARSIGN FOUR POINT TWO THREE  ALFA NOVEMBER DELTA  LEFTPAREN TANGO HOTEL INDIA SIERRA RIGHTPAREN  OSCAR ROMEO  SLASH TANGO HOTEL ECHO SIERRA ECHO STOP \n",
      " INDIA TANGO  CHARLIE OSCAR UNIFORM LIMA DELTA  ALFA LIMA SIERRA OSCAR  HOTEL ALFA VICTOR ECHO  THREE ASTERISK TWO CARET FIVE  PLUS  ONE ZERO PERCENT COMMA  ROMEO INDIA GOLF HOTEL TANGO QUESTMARK  GOLF OSCAR OSCAR DELTA  GREATERTHAN  BRAVO ALFA DELTA QUESTMARK  OSCAR ROMEO  LESSTHAN  BRAVO ALFA DELTA QUESTMARK \n",
      " INDIA TANGO  INDIA SIERRA  CHARLIE OSCAR DELTA ECHO UNDERSCORE WHISKEY OSCAR ROMEO DELTA ECHO DELTA  AMPERSAND  BACKTICK UNIFORM NOVEMBER UNIFORM SIERRA UNIFORM ALFA LIMA BACKTICK  LIMA INDIA KILO ECHO  TANGO HOTEL INDIA SIERRA  TILDE COLON  OSCAR ROMEO  LEFTSQUARE TANGO HOTEL INDIA SIERRA SEMICOLON RIGHTSQUARE  OSCAR ROMEO  LEFTCURLY QUOTMARK TANGO HOTEL INDIA SIERRA QUOTMARK RIGHTCURLY STOP \n",
      " BRAVO UNIFORM TANGO  INDIA TANGO  CHARLIE OSCAR UNIFORM LIMA DELTA  GOLF ECHO TANGO  WHISKEY ECHO INDIA ROMEO DELTA  PIPE  LIMA INDIA KILO ECHO  BACKSLASH TANGO HOTEL INDIA SIERRA STOP  YANKEE OSCAR UNIFORM  DELTA ECHO CHARLIE INDIA DELTA ECHO  DELTA OSCAR NOVEMBER KILO ECHO YANKEE MIKE ALFA SIERRA TANGO ECHO ROMEO SIX NINE STOP   \n",
      "\n",
      "THIS IS A TEST MESSAGE. IT'S CONTENTS ARE #!-GREAT-!# AND\n",
      "INCLUDE @THINGS TO TEST, LIKE $4.23 AND (THIS) OR /THESE.\n",
      "IT COULD ALSO HAVE 3*2^5 + 10%, RIGHT? GOOD > BAD? OR < BAD?\n",
      "IT IS CODE_WORDED & `UNUSUAL` LIKE THIS ~: OR [THIS;] OR {\"THIS\"}.\n",
      "BUT IT COULD GET WEIRD | LIKE \\THIS. YOU DECIDE DONKEYMASTER69. \n",
      "\n",
      "THIS IS A TEST MESSAGE. IT'S CONTENTS ARE #!-GREAT-!# AND \n",
      "INCLUDE @THINGS TO TEST, LIKE $4.23 AND (THIS) OR /THESE. \n",
      "IT COULD ALSO HAVE 3*2^5 + 10%, RIGHT? GOOD > BAD? OR < BAD? \n",
      "IT IS CODE_WORDED & `UNUSUAL` LIKE THIS ~: OR [THIS;] OR {\"THIS\"}. \n",
      "BUT IT COULD GET WEIRD | LIKE \\THIS. YOU DECIDE DONKEYMASTER69. \n",
      "\n",
      "False\n"
     ]
    }
   ],
   "source": [
    "with open('../data/message.txt', 'r') as f:\n",
    "    message = f.read()\n",
    "\n",
    "out = msg_to_nato(message)\n",
    "back = nato_to_msg(out)\n",
    "print(out, '\\n')\n",
    "print(message.upper(), '\\n')\n",
    "print(back, '\\n')\n",
    "print(message.upper() == back)"
   ]
  },
  {
   "cell_type": "code",
   "execution_count": 13,
   "metadata": {},
   "outputs": [
    {
     "name": "stdout",
     "output_type": "stream",
     "text": [
      "INDIA FOXTROT  YANKEE OSCAR UNIFORM  WHISKEY ALFA NOVEMBER TANGO  TANGO OSCAR  BRAVO ECHO  ALFA WHISKEY ALFA YANKEE  FOXTROT ROMEO OSCAR MIKE  TANGO HOTEL ECHO  TANGO HOTEL INDIA NOVEMBER GOLF SIERRA  OSCAR FOXTROT  MIKE ALFA NOVEMBER COMMA  WHISKEY HOTEL YANKEE  NOVEMBER OSCAR TANGO  JULIET UNIFORM SIERRA TANGO  GOLF OSCAR QUESTMARK  \n",
      " WHISKEY HOTEL YANKEE  BRAVO ECHO  ALFA  MIKE ALFA KILO ECHO DASH BRAVO ECHO LIMA INDIA ECHO VICTOR ECHO  HOTEL ECHO ROMEO MIKE INDIA TANGO  WHISKEY HOTEL ECHO NOVEMBER  YANKEE OSCAR UNIFORM  CHARLIE ALFA NOVEMBER  JULIET UNIFORM SIERRA TANGO  CHARLIE ROMEO OSCAR SIERRA SIERRA  TANGO HOTEL ECHO  ROMEO INDIA VICTOR ECHO ROMEO COMMA  \n",
      " CHARLIE LIMA INDIA MIKE BRAVO  TANGO HOTEL ECHO  HOTEL INDIA LIMA LIMA COMMA  PAPA INDIA TANGO CHARLIE HOTEL  ALFA  TANGO ECHO NOVEMBER TANGO COMMA  ALFA NOVEMBER DELTA  BRAVO ECHO  TANGO HOTEL ECHO  ROMEO ECHO ALFA LIMA  TANGO HOTEL INDIA NOVEMBER GOLF QUESTMARK  PAPA ROMEO ALFA YANKEE COMMA  CHARLIE HOTEL ALFA NOVEMBER TANGO COMMA  \n",
      " SIERRA ECHO LIMA FOXTROT DASH FOXTROT LIMA ALFA GOLF ECHO LIMA LIMA ALFA TANGO ECHO COMMA  MIKE ALFA KILO ECHO  WHISKEY INDIA NOVEMBER ECHO COMMA  ECHO ALFA TANGO  SIERRA WHISKEY INDIA LIMA LIMA  ALFA NOVEMBER DELTA  NOVEMBER ECHO VICTOR ECHO ROMEO  SIERRA ALFA YANKEE  ALFA  WHISKEY OSCAR ROMEO DELTA SEMICOLON  YANKEE OSCAR UNIFORM  \n",
      " CHARLIE ALFA NOVEMBER  DELTA OSCAR  INDIA TANGO  ALFA LIMA LIMA  OSCAR NOVEMBER  YANKEE OSCAR UNIFORM ROMEO  OSCAR WHISKEY NOVEMBER STOP  WHISKEY HOTEL ECHO NOVEMBER  YANKEE OSCAR UNIFORM ROMEO ECHO  NOVEMBER OSCAR TANGO  SIERRA UNIFORM ROMEO ROMEO OSCAR UNIFORM NOVEMBER DELTA ECHO DELTA  BRAVO YANKEE  OSCAR TANGO HOTEL ECHO ROMEO  \n",
      " PAPA ECHO OSCAR PAPA LIMA ECHO  OSCAR ROMEO  SIERRA TANGO UNIFORM CHARLIE KILO  ALFA DELTA HOTEL ECHO ROMEO INDIA NOVEMBER GOLF  TANGO OSCAR  ALFA  GOLF OSCAR OSCAR FOXTROT YANKEE  BRAVO ECHO LIMA INDIA ECHO FOXTROT  SIERRA YANKEE SIERRA TANGO ECHO MIKE COMMA  YANKEE OSCAR UNIFORM  DELTA OSCAR NOVEMBER TANGO  NOVEMBER ECHO ECHO DELTA  \n",
      " ALFA  LIMA OSCAR TANGO  OSCAR FOXTROT  DELTA UNIFORM MIKE BRAVO  VICTOR OSCAR WHISKEY SIERRA STOP \n",
      "\n",
      "IF YOU WANT TO BE AWAY FROM THE THINGS OF MAN, WHY NOT JUST GO? \n",
      "WHY BE A MAKE-BELIEVE HERMIT WHEN YOU CAN JUST CROSS THE RIVER, \n",
      "CLIMB THE HILL, PITCH A TENT, AND BE THE REAL THING? PRAY, CHANT, \n",
      "SELF-FLAGELLATE, MAKE WINE, EAT SWILL AND NEVER SAY A WORD; YOU \n",
      "CAN DO IT ALL ON YOUR OWN. WHEN YOU’RE NOT SURROUNDED BY OTHER \n",
      "PEOPLE OR STUCK ADHERING TO A GOOFY BELIEF SYSTEM, YOU DON’T NEED \n",
      "A LOT OF DUMB VOWS. \n",
      "\n",
      "IF YOU WANT TO BE AWAY FROM THE THINGS OF MAN, WHY NOT JUST GO?\n",
      "WHY BE A MAKE-BELIEVE HERMIT WHEN YOU CAN JUST CROSS THE RIVER,\n",
      "CLIMB THE HILL, PITCH A TENT, AND BE THE REAL THING? PRAY, CHANT,\n",
      "SELF-FLAGELLATE, MAKE WINE, EAT SWILL AND NEVER SAY A WORD; YOU\n",
      "CAN DO IT ALL ON YOUR OWN. WHEN YOURE NOT SURROUNDED BY OTHER\n",
      "PEOPLE OR STUCK ADHERING TO A GOOFY BELIEF SYSTEM, YOU DONT NEED\n",
      "A LOT OF DUMB VOWS. \n",
      "\n",
      "False\n"
     ]
    }
   ],
   "source": [
    "with open('../data/msg2.txt', 'r') as f:\n",
    "    message = f.read()\n",
    "\n",
    "nato = Natoify()\n",
    "encoded = nato.encode(message)\n",
    "decoded = nato.decode(encoded)\n",
    "print(encoded, '\\n')\n",
    "print(message.upper(), '\\n')\n",
    "print(decoded, '\\n')\n",
    "print(message.upper() == decoded)\n",
    "\n",
    "with open('../data/msg2_nato.txt', 'w') as f:\n",
    "    f.write(encoded)"
   ]
  },
  {
   "cell_type": "code",
   "execution_count": 15,
   "metadata": {},
   "outputs": [
    {
     "name": "stdout",
     "output_type": "stream",
     "text": [
      "POTS ARREIS YEKSIHW RACSO ROTCIV  OVARB EKIM MROFINU ATLED  TORTXOF RACSO  OGNAT RACSO AMIL  AFLA \n",
      "  ATLED OHCE OHCE REBMEVON  OGNAT REBMEVON RACSO ATLED  MROFINU RACSO EEKNAY  AMMOC EKIM OHCE OGNAT ARREIS EEKNAY ARREIS  TORTXOF OHCE AIDNI AMIL OHCE OVARB  EEKNAY TORTXOF RACSO RACSO FLOG  AFLA  RACSO OGNAT  FLOG REBMEVON AIDNI OEMOR OHCE LETOH ATLED AFLA  OLIK EILRAHC MROFINU OGNAT ARREIS  OEMOR RACSO  OHCE AMIL APAP RACSO OHCE APAP \n",
      "  OEMOR OHCE LETOH OGNAT RACSO  EEKNAY OVARB  ATLED OHCE ATLED REBMEVON MROFINU RACSO OEMOR OEMOR MROFINU ARREIS  OGNAT RACSO REBMEVON  OHCE OEMOR MROFINU RACSO EEKNAY  REBMEVON OHCE LETOH YEKSIHW  POTS REBMEVON YEKSIHW RACSO  OEMOR MROFINU RACSO EEKNAY  REBMEVON RACSO  AMIL AMIL AFLA  OGNAT AIDNI  RACSO ATLED  REBMEVON AFLA EILRAHC \n",
      "  MROFINU RACSO EEKNAY  NOLOCIMES ATLED OEMOR RACSO YEKSIHW  AFLA  EEKNAY AFLA ARREIS  OEMOR OHCE ROTCIV OHCE REBMEVON  ATLED REBMEVON AFLA  AMIL AMIL AIDNI YEKSIHW ARREIS  OGNAT AFLA OHCE  AMMOC OHCE REBMEVON AIDNI YEKSIHW  OHCE OLIK AFLA EKIM  AMMOC OHCE OGNAT AFLA AMIL AMIL OHCE FLOG AFLA AMIL TORTXOF HSAD TORTXOF AMIL OHCE ARREIS \n",
      "  AMMOC OGNAT REBMEVON AFLA LETOH EILRAHC  AMMOC EEKNAY AFLA OEMOR APAP  KRAMTSEUQ FLOG REBMEVON AIDNI LETOH OGNAT  AMIL AFLA OHCE OEMOR  OHCE LETOH OGNAT  OHCE OVARB  ATLED REBMEVON AFLA  AMMOC OGNAT REBMEVON OHCE OGNAT  AFLA  LETOH EILRAHC OGNAT AIDNI APAP  AMMOC AMIL AMIL AIDNI LETOH  OHCE LETOH OGNAT  OVARB EKIM AIDNI AMIL EILRAHC \n",
      "  AMMOC OEMOR OHCE ROTCIV AIDNI OEMOR  OHCE LETOH OGNAT  ARREIS ARREIS RACSO OEMOR EILRAHC  OGNAT ARREIS MROFINU TEILUJ  REBMEVON AFLA EILRAHC  MROFINU RACSO EEKNAY  REBMEVON OHCE LETOH YEKSIHW  OGNAT AIDNI EKIM OEMOR OHCE LETOH  OHCE ROTCIV OHCE AIDNI AMIL OHCE OVARB HSAD OHCE OLIK AFLA EKIM  AFLA  OHCE OVARB  EEKNAY LETOH YEKSIHW \n",
      "  KRAMTSEUQ RACSO FLOG  OGNAT ARREIS MROFINU TEILUJ  OGNAT RACSO REBMEVON  EEKNAY LETOH YEKSIHW  AMMOC REBMEVON AFLA EKIM  TORTXOF RACSO  ARREIS FLOG REBMEVON AIDNI LETOH OGNAT  OHCE LETOH OGNAT  EKIM RACSO OEMOR TORTXOF  EEKNAY AFLA YEKSIHW AFLA  OHCE OVARB  RACSO OGNAT  OGNAT REBMEVON AFLA YEKSIHW  MROFINU RACSO EEKNAY  TORTXOF AIDNI \n",
      "\n",
      "IF YOU WANT TO BE AWAY FROM THE THINGS OF MAN, WHY NOT JUST GO? \n",
      "WHY BE A MAKE-BELIEVE HERMIT WHEN YOU CAN JUST CROSS THE RIVER, \n",
      "CLIMB THE HILL, PITCH A TENT, AND BE THE REAL THING? PRAY, CHANT, \n",
      "SELF-FLAGELLATE, MAKE WINE, EAT SWILL AND NEVER SAY A WORD; YOU \n",
      "CAN DO IT ALL ON YOUR OWN. WHEN YOU’RE NOT SURROUNDED BY OTHER \n",
      "PEOPLE OR STUCK ADHERING TO A GOOFY BELIEF SYSTEM, YOU DON’T NEED \n",
      "A LOT OF DUMB VOWS. \n",
      "\n",
      "IF YOU WANT TO BE AWAY FROM THE THINGS OF MAN, WHY NOT JUST GO?\n",
      "WHY BE A MAKE-BELIEVE HERMIT WHEN YOU CAN JUST CROSS THE RIVER,\n",
      "CLIMB THE HILL, PITCH A TENT, AND BE THE REAL THING? PRAY, CHANT,\n",
      "SELF-FLAGELLATE, MAKE WINE, EAT SWILL AND NEVER SAY A WORD; YOU\n",
      "CAN DO IT ALL ON YOUR OWN. WHEN YOURE NOT SURROUNDED BY OTHER\n",
      "PEOPLE OR STUCK ADHERING TO A GOOFY BELIEF SYSTEM, YOU DONT NEED\n",
      "A LOT OF DUMB VOWS. \n",
      "\n",
      "False\n"
     ]
    }
   ],
   "source": [
    "with open('../data/msg2.txt', 'r') as f:\n",
    "    message = f.read()\n",
    "\n",
    "nato = Natoify()\n",
    "encrypted = nato.encrypt(message)\n",
    "decrypted = nato.decrypt(encrypted)\n",
    "print(encrypted, '\\n')\n",
    "print(message.upper(), '\\n')\n",
    "print(decrypted, '\\n')\n",
    "print(message.upper() == decrypted)\n",
    "\n",
    "with open('../data/msg2_encrypt.txt', 'w') as f:\n",
    "    f.write(encrypted)"
   ]
  },
  {
   "cell_type": "code",
   "execution_count": 2,
   "metadata": {},
   "outputs": [
    {
     "name": "stdout",
     "output_type": "stream",
     "text": [
      "{'A': 'ALFA', 'B': 'BRAVO', 'C': 'CHARLIE', 'D': 'DELTA', 'E': 'ECHO', 'F': 'FOXTROT', 'G': 'GOLF', 'H': 'HOTEL', 'I': 'INDIA', 'J': 'JULIET', 'K': 'KILO', 'L': 'LIMA', 'M': 'MIKE', 'N': 'NOVEMBER', 'O': 'OSCAR', 'P': 'PAPA', 'Q': 'QUEBEC', 'R': 'ROMEO', 'S': 'SIERRA', 'T': 'TANGO', 'U': 'UNIFORM', 'V': 'VICTOR', 'W': 'WHISKEY', 'X': 'X-RAY', 'Y': 'YANKEE', 'Z': 'ZULU', '0': 'ZERO', '1': 'ONE', '2': 'TWO', '3': 'THREE', '4': 'FOUR', '5': 'FIVE', '6': 'SIX', '7': 'SEVEN', '8': 'EIGHT', '9': 'NINE', '-': 'DASH', ',': 'COMMA', '.': 'POINT', '@': 'AT', '?': 'QUESTMARK', '!': 'EXCLAMARK', \"'\": 'APOSTROPHE', '\"': 'QUOTMARK', '(': 'LEFTPAREN', ')': 'RIGHTPAREN', '&': 'AMPERSAND', ':': 'COLON', ';': 'SEMICOLON', '/': 'SLASH', '\\\\': 'BACKSLASH', '+': 'PLUS', '=': 'EQUAL', '_': 'UNDERSCORE', '$': 'DOLLARSIGN', '%': 'PERCENT', '#': 'HASHTAG', '*': 'ASTERISK', '<': 'LESSTHAN', '>': 'GREATERTHAN', '^': 'CARET', '~': 'TILDE', '`': 'BACKTICK', '{': 'LEFTCURLY', '}': 'RIGHTCURLY', '[': 'LEFTSQUARE', ']': 'RIGHTSQUARE', '|': 'PIPE', ' ': ' ', '\\n': '\\n', '\\t': '\\t'}\n",
      "{'ALFA': 'A', 'BRAVO': 'B', 'CHARLIE': 'C', 'DELTA': 'D', 'ECHO': 'E', 'FOXTROT': 'F', 'GOLF': 'G', 'HOTEL': 'H', 'INDIA': 'I', 'JULIET': 'J', 'KILO': 'K', 'LIMA': 'L', 'MIKE': 'M', 'NOVEMBER': 'N', 'OSCAR': 'O', 'PAPA': 'P', 'QUEBEC': 'Q', 'ROMEO': 'R', 'SIERRA': 'S', 'TANGO': 'T', 'UNIFORM': 'U', 'VICTOR': 'V', 'WHISKEY': 'W', 'X-RAY': 'X', 'YANKEE': 'Y', 'ZULU': 'Z', 'ZERO': '0', 'ONE': '1', 'TWO': '2', 'THREE': '3', 'FOUR': '4', 'FIVE': '5', 'SIX': '6', 'SEVEN': '7', 'EIGHT': '8', 'NINE': '9', 'DASH': '-', 'COMMA': ',', 'POINT': '.', 'AT': '@', 'QUESTMARK': '?', 'EXCLAMARK': '!', 'APOSTROPHE': \"'\", 'QUOTMARK': '\"', 'LEFTPAREN': '(', 'RIGHTPAREN': ')', 'AMPERSAND': '&', 'COLON': ':', 'SEMICOLON': ';', 'SLASH': '/', 'BACKSLASH': '\\\\', 'PLUS': '+', 'EQUAL': '=', 'UNDERSCORE': '_', 'DOLLARSIGN': '$', 'PERCENT': '%', 'HASHTAG': '#', 'ASTERISK': '*', 'LESSTHAN': '<', 'GREATERTHAN': '>', 'CARET': '^', 'TILDE': '~', 'BACKTICK': '`', 'LEFTCURLY': '{', 'RIGHTCURLY': '}', 'LEFTSQUARE': '[', 'RIGHTSQUARE': ']', 'PIPE': '|', ' ': ' ', '\\n': '\\n', '\\t': '\\t', 'STOP': '.'}\n"
     ]
    }
   ],
   "source": [
    "nato = Natoify()\n",
    "codes_by_letter = nato.codes_by_letter\n",
    "codes_by_word = nato.codes_by_word\n",
    "print(codes_by_letter)\n",
    "print(codes_by_word)"
   ]
  },
  {
   "cell_type": "code",
   "execution_count": 8,
   "metadata": {},
   "outputs": [
    {
     "name": "stdout",
     "output_type": "stream",
     "text": [
      "&quot;John&quot;\n"
     ]
    }
   ],
   "source": [
    "# Not working as expected :(\n",
    "html = \"&quot;John&quot;\"\n",
    "cleaned = nato._clean_message(html)\n",
    "print(cleaned)"
   ]
  },
  {
   "cell_type": "code",
   "execution_count": 7,
   "metadata": {},
   "outputs": [
    {
     "name": "stdout",
     "output_type": "stream",
     "text": [
      "APAP RACSO OGNAT ARREIS  POTS RUOF EERHT OWT ENO  POTS OHCE FLOG AFLA ARREIS ARREIS OHCE EKIM  OGNAT ARREIS OHCE OGNAT  AFLA  ARREIS AIDNI  ARREIS AIDNI LETOH OGNAT \n",
      "\n",
      "THIS IS A TEST MESSAGE. 1234. STOP \n",
      "\n",
      "THIS IS A TEST MESSAGE. 1234. STOP \n",
      "\n",
      "True\n"
     ]
    }
   ],
   "source": [
    "message = \"This is a test message. 1234. STOP\"\n",
    "nato = Natoify()\n",
    "encrypted = nato.encode(message, encrypt=True)\n",
    "decrypted = nato.decode(encrypted, decrypt=True)\n",
    "print(encrypted, '\\n')\n",
    "print(message.upper(), '\\n')\n",
    "print(decrypted, '\\n')\n",
    "print(message.upper() == decrypted)"
   ]
  },
  {
   "cell_type": "code",
   "execution_count": 2,
   "metadata": {},
   "outputs": [
    {
     "name": "stdout",
     "output_type": "stream",
     "text": [
      "HOE EATME LAMEASS LAMEASS ORFICE  WANKER ORFICE RIMJOB LAMEASS DOUCHBAG OSHIT\n",
      "HELLO WORLD!\n",
      "HELLO WORLD!\n",
      "True\n"
     ]
    }
   ],
   "source": [
    "message = \"Hello World!\"\n",
    "nato = Natoify()\n",
    "nato.set_code('vulgar')\n",
    "vulgarmsg = nato.encode(message)\n",
    "out = nato.decode(vulgarmsg)\n",
    "print(vulgarmsg)\n",
    "print(message.upper())\n",
    "print(out)\n",
    "print(message.upper() == out)"
   ]
  },
  {
   "cell_type": "code",
   "execution_count": 31,
   "metadata": {},
   "outputs": [],
   "source": [
    "import json\n",
    "\n",
    "with open('../src/natoify/code_lib/ghettonato.json', 'w') as f:\n",
    "    d = {\"GHETTONATO\": GHETTONATO}\n",
    "    f.write(json.dumps(d, indent=4))\n"
   ]
  },
  {
   "cell_type": "code",
   "execution_count": 30,
   "metadata": {},
   "outputs": [
    {
     "name": "stdout",
     "output_type": "stream",
     "text": [
      "<class 'dict'>\n",
      "<class 'dict'>\n",
      "<class 'list'>\n",
      "{'A': 'ALFA', 'B': 'BRAVO', 'C': 'CHARLIE', 'D': 'DELTA', 'E': 'ECHO', 'F': 'FOXTROT', 'G': 'GOLF', 'H': 'HOTEL', 'I': 'INDIA', 'J': 'JULIET', 'K': 'KILO', 'L': 'LIMA', 'M': 'MIKE', 'N': 'NOVEMBER', 'O': 'OSCAR', 'P': 'PAPA', 'Q': 'QUEBEC', 'R': 'ROMEO', 'S': 'SIERRA', 'T': 'TANGO', 'U': 'UNIFORM', 'V': 'VICTOR', 'W': 'WHISKEY', 'X': 'X-RAY', 'Y': 'YANKEE', 'Z': 'ZULU', '0': 'ZERO', '1': 'ONE', '2': 'TWO', '3': 'THREE', '4': 'FOUR', '5': 'FIVE', '6': 'SIX', '7': 'SEVEN', '8': 'EIGHT', '9': 'NINE', '-': 'DASH', ',': 'COMMA', '.': 'POINT', '@': 'AT', '?': 'QUESTMARK', '!': 'EXCLAMARK', \"'\": 'APOSTROPHE', '\"': 'QUOTMARK', '(': 'LEFTPAREN', ')': 'RIGHTPAREN', '&': 'AMPERSAND', ':': 'COLON', ';': 'SEMICOLON', '/': 'SLASH', '\\\\': 'BACKSLASH', '+': 'PLUS', '=': 'EQUAL', '_': 'UNDERSCORE', '$': 'DOLLARSIGN', '%': 'PERCENT', '#': 'HASHTAG', '*': 'ASTERISK', '<': 'LESSTHAN', '>': 'GREATERTHAN', '^': 'CARET', '~': 'TILDE', '`': 'BACKTICK', '{': 'LEFTCURLY', '}': 'RIGHTCURLY', '[': 'LEFTSQUARE', ']': 'RIGHTSQUARE', '|': 'PIPE', ' ': ' ', '\\n': '\\n', '\\t': '\\t'}\n",
      "{'A': 'ALFA', 'B': 'BRAVO', 'C': 'CHARLIE', 'D': 'DELTA', 'E': 'ECHO', 'F': 'FOXTROT', 'G': 'GOLF', 'H': 'HOTEL', 'I': 'INDIA', 'J': 'JULIET', 'K': 'KILO', 'L': 'LIMA', 'M': 'MIKE', 'N': 'NOVEMBER', 'O': 'OSCAR', 'P': 'PAPA', 'Q': 'QUEBEC', 'R': 'ROMEO', 'S': 'SIERRA', 'T': 'TANGO', 'U': 'UNIFORM', 'V': 'VICTOR', 'W': 'WHISKEY', 'X': 'X-RAY', 'Y': 'YANKEE', 'Z': 'ZULU', '0': 'ZERO', '1': 'ONE', '2': 'TWO', '3': 'THREE', '4': 'FOUR', '5': 'FIVE', '6': 'SIX', '7': 'SEVEN', '8': 'EIGHT', '9': 'NINE', '-': 'DASH', ',': 'COMMA', '.': 'POINT', '@': 'AT', '?': 'QUESTMARK', '!': 'EXCLAMARK', \"'\": 'APOSTROPHE', '\"': 'QUOTMARK', '(': 'LEFTPAREN', ')': 'RIGHTPAREN', '&': 'AMPERSAND', ':': 'COLON', ';': 'SEMICOLON', '/': 'SLASH', '\\\\': 'BACKSLASH', '+': 'PLUS', '=': 'EQUAL', '_': 'UNDERSCORE', '$': 'DOLLARSIGN', '%': 'PERCENT', '#': 'HASHTAG', '*': 'ASTERISK', '<': 'LESSTHAN', '>': 'GREATERTHAN', '^': 'CARET', '~': 'TILDE', '`': 'BACKTICK', '{': 'LEFTCURLY', '}': 'RIGHTCURLY', '[': 'LEFTSQUARE', ']': 'RIGHTSQUARE', '|': 'PIPE', ' ': ' ', '\\n': '\\n', '\\t': '\\t'}\n"
     ]
    }
   ],
   "source": [
    "import json\n",
    "\n",
    "with open('../src/natoify/code_lib/nato.json', 'r') as f:\n",
    "    d = json.load(f)\n",
    "    x = list(d.keys())\n",
    "    print(type(d))\n",
    "    print(type(NATO))\n",
    "    print(type(x))\n",
    "    print(d[x[0]])\n",
    "    print(NATO)"
   ]
  },
  {
   "cell_type": "code",
   "execution_count": 34,
   "metadata": {},
   "outputs": [
    {
     "name": "stdout",
     "output_type": "stream",
     "text": [
      "{'NATO': {'A': 'ALFA', 'B': 'BRAVO', 'C': 'CHARLIE', 'D': 'DELTA', 'E': 'ECHO', 'F': 'FOXTROT', 'G': 'GOLF', 'H': 'HOTEL', 'I': 'INDIA', 'J': 'JULIET', 'K': 'KILO', 'L': 'LIMA', 'M': 'MIKE', 'N': 'NOVEMBER', 'O': 'OSCAR', 'P': 'PAPA', 'Q': 'QUEBEC', 'R': 'ROMEO', 'S': 'SIERRA', 'T': 'TANGO', 'U': 'UNIFORM', 'V': 'VICTOR', 'W': 'WHISKEY', 'X': 'X-RAY', 'Y': 'YANKEE', 'Z': 'ZULU', '0': 'ZERO', '1': 'ONE', '2': 'TWO', '3': 'THREE', '4': 'FOUR', '5': 'FIVE', '6': 'SIX', '7': 'SEVEN', '8': 'EIGHT', '9': 'NINE', '-': 'DASH', ',': 'COMMA', '.': 'POINT', '@': 'AT', '?': 'QUESTMARK', '!': 'EXCLAMARK', \"'\": 'APOSTROPHE', '\"': 'QUOTMARK', '(': 'LEFTPAREN', ')': 'RIGHTPAREN', '&': 'AMPERSAND', ':': 'COLON', ';': 'SEMICOLON', '/': 'SLASH', '\\\\': 'BACKSLASH', '+': 'PLUS', '=': 'EQUAL', '_': 'UNDERSCORE', '$': 'DOLLARSIGN', '%': 'PERCENT', '#': 'HASHTAG', '*': 'ASTERISK', '<': 'LESSTHAN', '>': 'GREATERTHAN', '^': 'CARET', '~': 'TILDE', '`': 'BACKTICK', '{': 'LEFTCURLY', '}': 'RIGHTCURLY', '[': 'LEFTSQUARE', ']': 'RIGHTSQUARE', '|': 'PIPE', ' ': ' ', '\\n': '\\n', '\\t': '\\t'}, 'GHETTONATO': {'A': 'ASSHAT', 'B': 'BULLSHIT', 'C': 'CUNT', 'D': 'DOUCHBAG', 'E': 'EATME', 'F': 'FUCK', 'G': 'GUTTERHOE', 'H': 'HOE', 'I': 'IDOIT', 'J': 'JIZZ', 'K': 'KOOTCH', 'L': 'LAMEASS', 'M': 'MOTHERFUCKER', 'N': 'NUTSACK', 'O': 'ORFICE', 'P': 'PUSSY', 'Q': 'QUEEF', 'R': 'RIMJOB', 'S': 'SLUTBAG', 'T': 'TITS', 'U': 'UGLYFUCK', 'V': 'VAGINA', 'W': 'WANKER', 'X': 'XCUSEYOU', 'Y': 'YANKME', 'Z': 'ZEROFUCKS', '0': 'ZERO', '1': 'ONE', '2': 'TWO', '3': 'THREE', '4': 'FOUR', '5': 'FIVE', '6': 'SIX', '7': 'SEVEN', '8': 'EIGHT', '9': 'NINE', '-': 'DILDO', ',': 'CUMDUMSTER', '.': 'PRICK', '@': 'ATABOY', '?': 'WTF', '!': 'OSHIT', \"'\": 'APESHIT', '\"': 'QUIVER', '(': 'LICKIT', ')': 'RIDEME', '&': 'ANUS', ':': 'CLIT', ';': 'SEMICLIT', '/': 'GASH', '\\\\': 'BUNGHOLE', '+': 'PLUSSIZE', '=': 'EARHOLE', '_': 'DUMBWHORE', '$': 'DICKHOLE', '%': 'PISSOFF', '#': 'HUMP', '*': 'ASS', '<': 'LICKME', '>': 'GODDAMN', '^': 'CORNHOLE', '~': 'TWAT', '`': 'BACKHOLE', '{': 'CHODE', '}': 'COCK', '[': 'SKANK', ']': 'SHITBIRD', '|': 'PISSOFF', ' ': ' ', '\\n': '\\n', '\\t': '\\t'}}\n"
     ]
    }
   ],
   "source": [
    "import glob\n",
    "import json\n",
    "\n",
    "directory = '../src/natoify/code_lib'\n",
    "codes_dict = {}\n",
    "\n",
    "# Get a list of all the json files in the directory\n",
    "json_files = glob.glob(f\"{directory}/*.json\")\n",
    "\n",
    "# Iterate through each file and load the codes\n",
    "for json_file in json_files:\n",
    "    with open(json_file, \"r\") as f:\n",
    "        codes = json.load(f)\n",
    "        # Add the codes to the CODE_OPTIONS dictionary\n",
    "        codes_dict.update(codes)\n",
    "\n",
    "print(codes_dict)"
   ]
  },
  {
   "cell_type": "code",
   "execution_count": 3,
   "metadata": {},
   "outputs": [
    {
     "name": "stdout",
     "output_type": "stream",
     "text": [
      "{'A': 'ASSHAT', 'B': 'BULLSHIT', 'C': 'CUNT', 'D': 'DOUCHBAG', 'E': 'EATME', 'F': 'FUCK', 'G': 'GUTTERHOE', 'H': 'HOE', 'I': 'IDOIT', 'J': 'JIZZ', 'K': 'KOOTCH', 'L': 'LAMEASS', 'M': 'MOTHERFUCKER', 'N': 'NUTSACK', 'O': 'ORFICE', 'P': 'PUSSY', 'Q': 'QUEEF', 'R': 'RIMJOB', 'S': 'SLUTBAG', 'T': 'TITS', 'U': 'UGLYFUCK', 'V': 'VAGINA', 'W': 'WANKER', 'X': 'XCUSEYOU', 'Y': 'YANKME', 'Z': 'ZEROFUCKS', '0': 'ZERO', '1': 'ONE', '2': 'TWO', '3': 'THREE', '4': 'FOUR', '5': 'FIVE', '6': 'SIX', '7': 'SEVEN', '8': 'EIGHT', '9': 'NINE', '-': 'DILDO', ',': 'CUMDUMSTER', '.': 'PRICK', '@': 'ATABOY', '?': 'WTF', '!': 'OSHIT', \"'\": 'APESHIT', '\"': 'QUIVER', '(': 'LICKIT', ')': 'RIDEME', '&': 'ANUS', ':': 'CLIT', ';': 'SEMICLIT', '/': 'GASH', '\\\\': 'BUNGHOLE', '+': 'PLUSSIZE', '=': 'EARHOLE', '_': 'DUMBWHORE', '$': 'DICKHOLE', '%': 'PISSOFF', '#': 'HUMP', '*': 'ASS', '<': 'LICKME', '>': 'GODDAMN', '^': 'CORNHOLE', '~': 'TWAT', '`': 'BACKHOLE', '{': 'CHODE', '}': 'COCK', '[': 'SKANK', ']': 'SHITBIRD', '|': 'PISSOFF', ' ': ' ', '\\n': '\\n', '\\t': '\\t'}\n",
      "HOE EATME LAMEASS LAMEASS ORFICE  WANKER ORFICE RIMJOB LAMEASS DOUCHBAG OSHIT\n"
     ]
    }
   ],
   "source": [
    "nato = Natoify()\n",
    "nato.list_codes()\n",
    "nato.set_code('ghettonato')\n",
    "print(nato.codes_by_letter)\n",
    "msg = \"Hello World!\"\n",
    "encoded = nato.encode(msg)\n",
    "print(encoded)"
   ]
  },
  {
   "cell_type": "code",
   "execution_count": 5,
   "metadata": {},
   "outputs": [
    {
     "name": "stdout",
     "output_type": "stream",
     "text": [
      "15438\n"
     ]
    }
   ],
   "source": [
    "import json\n",
    "import os, sys\n",
    "\n",
    "with open('../src/natoify/chat_log/chat_2023-06-03-12-19-10.json', 'r') as f:\n",
    "    chat = json.load(f)\n",
    "    all_txt = json.dumps(chat, indent=4)\n",
    "    print(len(all_txt))\n",
    "\n"
   ]
  },
  {
   "cell_type": "code",
   "execution_count": 4,
   "metadata": {},
   "outputs": [
    {
     "name": "stdout",
     "output_type": "stream",
     "text": [
      "-11\n",
      "22\n",
      "11\n",
      "[{'user': 'user1', 'message': 'Hello World!'}, {'user': 'user1', 'message': 'Hello World!'}, {'user': 'user1', 'message': 'Hello World!'}, {'user': 'user1', 'message': 'Hello World!'}, {'user': 'user1', 'message': 'Hello World!'}, {'user': 'user1', 'message': 'Hello World!'}, {'user': 'user1', 'message': 'Hello World!'}, {'user': 'user1', 'message': 'Hello World!'}, {'user': 'user1', 'message': 'Hello World!'}, {'user': 'user1', 'message': 'Hello World!'}, {'user': 'user1', 'message': 'Hello World!'}, {'user': 'user1', 'message': 'Hello World!'}, {'user': 'user1', 'message': 'Hello World!'}, {'user': 'user1', 'message': 'Hello World!'}, {'user': 'user1', 'message': 'Hello World!'}, {'user': 'user1', 'message': 'Hello World!'}, {'user': 'user1', 'message': 'Hello World!'}, {'user': 'user1', 'message': 'Hello World!'}, {'user': 'user1', 'message': 'Hello World!'}, {'user': 'user1', 'message': 'Hello World!'}, {'user': 'user1', 'message': 'Hello World!'}, {'user': 'user1', 'message': 'Hello World!'}]\n",
      "[{'user': 'user1', 'message': 'Hello World!'}, {'user': 'user1', 'message': 'Hello World!'}, {'user': 'user1', 'message': 'Hello World!'}, {'user': 'user1', 'message': 'Hello World!'}, {'user': 'user1', 'message': 'Hello World!'}, {'user': 'user1', 'message': 'Hello World!'}, {'user': 'user1', 'message': 'Hello World!'}, {'user': 'user1', 'message': 'Hello World!'}, {'user': 'user1', 'message': 'Hello World!'}, {'user': 'user1', 'message': 'Hello World!'}, {'user': 'user1', 'message': 'Hello World!'}]\n"
     ]
    }
   ],
   "source": [
    "msg = {\"user\": \"user1\", \"message\": \"Hello World!\"}\n",
    "messages = [msg for i in range(22)]\n",
    "\n",
    "num_back = int(len(messages) / 2) * -1\n",
    "smaller = messages[num_back:]\n",
    "print(num_back)\n",
    "print(len(messages))\n",
    "print(len(smaller))\n",
    "print(messages)\n",
    "print(smaller)"
   ]
  },
  {
   "cell_type": "code",
   "execution_count": null,
   "metadata": {},
   "outputs": [],
   "source": []
  }
 ],
 "metadata": {
  "kernelspec": {
   "display_name": "lists",
   "language": "python",
   "name": "python3"
  },
  "language_info": {
   "codemirror_mode": {
    "name": "ipython",
    "version": 3
   },
   "file_extension": ".py",
   "mimetype": "text/x-python",
   "name": "python",
   "nbconvert_exporter": "python",
   "pygments_lexer": "ipython3",
   "version": "3.11.3"
  },
  "orig_nbformat": 4
 },
 "nbformat": 4,
 "nbformat_minor": 2
}
